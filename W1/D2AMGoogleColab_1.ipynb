{
  "nbformat": 4,
  "nbformat_minor": 0,
  "metadata": {
    "colab": {
      "name": "GoogleColab-1.ipynb",
      "provenance": []
    },
    "kernelspec": {
      "name": "python3",
      "display_name": "Python 3"
    },
    "language_info": {
      "name": "python"
    }
  },
  "cells": [
    {
      "cell_type": "markdown",
      "source": [
        "# Perkenalan\n",
        "Nama: Wenny Chandra Sari Batch:15"
      ],
      "metadata": {
        "id": "22QVgbu22S4i"
      }
    },
    {
      "cell_type": "markdown",
      "source": [
        "# Title: Python Basic 1\n",
        "python adalah bahasa pemrograman yang open source"
      ],
      "metadata": {
        "id": "C4qkUm2C15XH"
      }
    },
    {
      "cell_type": "markdown",
      "source": [
        "CTRL + enter"
      ],
      "metadata": {
        "id": "8j0nFjtS2s_w"
      }
    },
    {
      "cell_type": "code",
      "source": [
        "print('Hello Wenny!')"
      ],
      "metadata": {
        "id": "XNQDvNKT2gEG"
      },
      "execution_count": null,
      "outputs": []
    }
  ]
}