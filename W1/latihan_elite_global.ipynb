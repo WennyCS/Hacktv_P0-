{
 "cells": [
  {
   "cell_type": "markdown",
   "metadata": {},
   "source": [
    "# Perkenalan\n",
    "- Nama: Wenny Chandra Sari\n",
    "- Kelas: 15\n",
    "\n",
    "## Assignment\n",
    "Buatlah sebuah program untuk mencetak string dan menampilkan karakter yang ada pada nomor indeks genap.\n",
    "\n",
    "kata = \"Liburan\", jadi Anda harus menampilkan 'L','b','r','n'"
   ]
  },
  {
   "cell_type": "markdown",
   "metadata": {},
   "source": [
    "### Cara-1"
   ]
  },
  {
   "cell_type": "code",
   "execution_count": 1,
   "metadata": {},
   "outputs": [],
   "source": [
    "def myFunction(kata):\n",
    "    newkata= ''\n",
    "    i = 0\n",
    "    while i <= len(kata):\n",
    "        if i % 2 == 0:\n",
    "            newkata= newkata + ' '+ kata[i]\n",
    "        else:\n",
    "            pass\n",
    "        i+= 1\n",
    "    newkata_1 = newkata.strip()\n",
    "    print(newkata_1.split(' '))    \n"
   ]
  },
  {
   "cell_type": "code",
   "execution_count": 2,
   "metadata": {},
   "outputs": [
    {
     "name": "stdout",
     "output_type": "stream",
     "text": [
      "['L', 'b', 'r', 'n']\n"
     ]
    }
   ],
   "source": [
    "myFunction('Liburan')"
   ]
  }
 ],
 "metadata": {
  "kernelspec": {
   "display_name": "Python 3.9.12 ('base')",
   "language": "python",
   "name": "python3"
  },
  "language_info": {
   "codemirror_mode": {
    "name": "ipython",
    "version": 3
   },
   "file_extension": ".py",
   "mimetype": "text/x-python",
   "name": "python",
   "nbconvert_exporter": "python",
   "pygments_lexer": "ipython3",
   "version": "3.9.12"
  },
  "orig_nbformat": 4,
  "vscode": {
   "interpreter": {
    "hash": "ad2bdc8ecc057115af97d19610ffacc2b4e99fae6737bb82f5d7fb13d2f2c186"
   }
  }
 },
 "nbformat": 4,
 "nbformat_minor": 2
}
