{
 "cells": [
  {
   "cell_type": "markdown",
   "metadata": {},
   "source": [
    "# Fungsi, Modul, dan Package"
   ]
  },
  {
   "cell_type": "markdown",
   "metadata": {},
   "source": [
    "## A. Fungsi"
   ]
  },
  {
   "cell_type": "code",
   "execution_count": 14,
   "metadata": {},
   "outputs": [],
   "source": [
    "def sapa():\n",
    "    print('Halo, nama saya Hana!')"
   ]
  },
  {
   "cell_type": "code",
   "execution_count": 15,
   "metadata": {},
   "outputs": [
    {
     "name": "stdout",
     "output_type": "stream",
     "text": [
      "Halo, nama saya Hana!\n"
     ]
    }
   ],
   "source": [
    "sapa()"
   ]
  },
  {
   "cell_type": "code",
   "execution_count": 16,
   "metadata": {},
   "outputs": [],
   "source": [
    "def sapa (nama):\n",
    "    print(f'Halo, nama saya {nama}!')"
   ]
  },
  {
   "cell_type": "code",
   "execution_count": 17,
   "metadata": {},
   "outputs": [
    {
     "name": "stdout",
     "output_type": "stream",
     "text": [
      "Halo, nama saya Adrian!\n"
     ]
    }
   ],
   "source": [
    "sapa(nama ='Adrian')"
   ]
  },
  {
   "cell_type": "code",
   "execution_count": 18,
   "metadata": {},
   "outputs": [],
   "source": [
    "def sapa (nama, umur):\n",
    "    print(f'Halo, nama saya {nama}, umur saya {umur}.')"
   ]
  },
  {
   "cell_type": "code",
   "execution_count": 19,
   "metadata": {},
   "outputs": [
    {
     "name": "stdout",
     "output_type": "stream",
     "text": [
      "Halo, nama saya Bara, umur saya 20.\n"
     ]
    }
   ],
   "source": [
    "sapa(nama = 'Bara', umur = 20)"
   ]
  },
  {
   "cell_type": "code",
   "execution_count": 20,
   "metadata": {},
   "outputs": [
    {
     "name": "stdout",
     "output_type": "stream",
     "text": [
      "Halo, nama saya Bara, umur saya 20.\n"
     ]
    }
   ],
   "source": [
    "sapa('Bara', 20)"
   ]
  },
  {
   "cell_type": "code",
   "execution_count": 21,
   "metadata": {},
   "outputs": [],
   "source": [
    "def ngasih_nilai(nilai):\n",
    "    if(80 <= nilai <= 100):\n",
    "        print(f'{nilai} adalah grade A')\n",
    "    elif(70 <= nilai < 80):\n",
    "        print(f'{nilai} adalah grade B')\n",
    "    elif(60 <= nilai < 70):\n",
    "        print(f'{nilai} adalah grade C')\n",
    "    elif(40 <= nilai < 60):\n",
    "        print(f'{nilai} adalah grade D')\n",
    "    else:\n",
    "        print(f'{nilai} adalah grade E')"
   ]
  },
  {
   "cell_type": "code",
   "execution_count": 22,
   "metadata": {},
   "outputs": [
    {
     "name": "stdout",
     "output_type": "stream",
     "text": [
      "90 adalah grade A\n"
     ]
    }
   ],
   "source": [
    "ngasih_nilai(90)"
   ]
  },
  {
   "cell_type": "code",
   "execution_count": 26,
   "metadata": {},
   "outputs": [],
   "source": [
    "## Fungsi Kalkulator Return\n",
    "\n",
    "def kalkulasi_ret(a, b):\n",
    "    tambah = a + b\n",
    "    kurang = a - b\n",
    "    bagi = a/b\n",
    "    kali = a*b\n",
    "    return tambah, kurang , kali, bagi  # mengembalikan sebagai variable yang telah diassign. Hasil dari fungsi return masih bisa diutak-atik."
   ]
  },
  {
   "cell_type": "code",
   "execution_count": 27,
   "metadata": {},
   "outputs": [
    {
     "data": {
      "text/plain": [
       "2.0"
      ]
     },
     "execution_count": 27,
     "metadata": {},
     "output_type": "execute_result"
    }
   ],
   "source": [
    "a, b, c, d = kalkulasi_ret(10, 5)\n",
    "a\n",
    "b\n",
    "c\n",
    "d"
   ]
  },
  {
   "cell_type": "code",
   "execution_count": 30,
   "metadata": {},
   "outputs": [
    {
     "data": {
      "text/plain": [
       "20"
      ]
     },
     "execution_count": 30,
     "metadata": {},
     "output_type": "execute_result"
    }
   ],
   "source": [
    "a + b"
   ]
  },
  {
   "cell_type": "code",
   "execution_count": 28,
   "metadata": {},
   "outputs": [],
   "source": [
    "## Fungsi Kalkulasi Print\n",
    "\n",
    "def kalkulasi(a, b):\n",
    "    tambah = a + b\n",
    "    kurang = a - b\n",
    "    bagi = a/b\n",
    "    kali = a*b\n",
    "    print(tambah, kurang , kali, bagi)"
   ]
  },
  {
   "cell_type": "code",
   "execution_count": 29,
   "metadata": {},
   "outputs": [
    {
     "name": "stdout",
     "output_type": "stream",
     "text": [
      "12 8 20 5.0\n"
     ]
    }
   ],
   "source": [
    "kalkulasi(10,2)"
   ]
  },
  {
   "cell_type": "code",
   "execution_count": 2,
   "metadata": {},
   "outputs": [
    {
     "name": "stdout",
     "output_type": "stream",
     "text": [
      "Halo, nama saya Wenny, umur saya 33.\n",
      "Halo, nama saya Yusuf, umur saya 33.\n"
     ]
    }
   ],
   "source": [
    "## Default argumen\n",
    "\n",
    "def sapa(nama='Yusuf', umur=33):\n",
    "    print(f'Halo, nama saya {nama}, umur saya {umur}.')\n",
    "    \n",
    "sapa('Wenny', 33)\n",
    "sapa()"
   ]
  },
  {
   "cell_type": "markdown",
   "metadata": {},
   "source": [
    "Global Var and Local Var:\n",
    "- Global var: Var diassign di luar fungsi\n",
    "- Local var: Var diassign di dalam fungsi\n",
    "\n",
    "Global Var vs Local Var:\n",
    "- Global var: bisa dipanggil di dalam fungsi\n",
    "- Local var: tidak bisa dipanggil di luar fungsi, kecuali memakai keyword global"
   ]
  },
  {
   "cell_type": "code",
   "execution_count": 7,
   "metadata": {},
   "outputs": [
    {
     "name": "stdout",
     "output_type": "stream",
     "text": [
      "apple\n"
     ]
    }
   ],
   "source": [
    "x = 'apple'         # global var, bisa dipanggil di dalam fungsi\n",
    "\n",
    "def namabuah():\n",
    "    print(x)\n",
    "\n",
    "namabuah()"
   ]
  },
  {
   "cell_type": "code",
   "execution_count": 16,
   "metadata": {},
   "outputs": [
    {
     "name": "stdout",
     "output_type": "stream",
     "text": [
      "beruang\n"
     ]
    }
   ],
   "source": [
    "def nama_mamalia():\n",
    "    t = 'beruang'   # local var, tidak bisa dipanggil di luar fungsi\n",
    "    print(t)\n",
    "\n",
    "nama_mamalia()\n",
    "# error: t"
   ]
  },
  {
   "cell_type": "code",
   "execution_count": 33,
   "metadata": {},
   "outputs": [
    {
     "name": "stdout",
     "output_type": "stream",
     "text": [
      "Siswa itu cerdas\n",
      "cerdas\n"
     ]
    }
   ],
   "source": [
    "x = 'luar biasa'\n",
    "\n",
    "def myfunction():\n",
    "    global x        # local var yang didahului keyword global dapat dipanggil di luar fungsi dan mengoverwrite var sama sebelumnya.\n",
    "    x = 'cerdas'\n",
    "    print('Siswa itu ' + x)\n",
    "\n",
    "myfunction()\n",
    "\n",
    "print(x)            # local yang menima global"
   ]
  },
  {
   "cell_type": "markdown",
   "metadata": {},
   "source": [
    "Arbitrary Argumen (*args) dan Arbitrary Keyword Argument (**kwargs)\n",
    "- args: jumlah argumen terserah, hasil berupa tuple.\n",
    "- kwargs: jumlah argumen terserah tapi harus dimasukkan dalam bentuk key = value, hasil dictionary."
   ]
  },
  {
   "cell_type": "code",
   "execution_count": 34,
   "metadata": {},
   "outputs": [
    {
     "name": "stdout",
     "output_type": "stream",
     "text": [
      "('ammar', 'dhila', 'adli')\n"
     ]
    }
   ],
   "source": [
    "# args(*)\n",
    "\n",
    "def func(*nama):\n",
    "    print(nama)\n",
    "    \n",
    "func('ammar', 'dhila', 'adli')"
   ]
  },
  {
   "cell_type": "code",
   "execution_count": 35,
   "metadata": {},
   "outputs": [
    {
     "name": "stdout",
     "output_type": "stream",
     "text": [
      "{'nama1': 'ammar', 'nama2': 'dhila', 'nama3': 'adli'}\n"
     ]
    }
   ],
   "source": [
    "# kwargs(**)\n",
    "\n",
    "def func(**nama):\n",
    "    print(nama)\n",
    "\n",
    "func(nama1='ammar', nama2='dhila', nama3 ='adli')"
   ]
  },
  {
   "cell_type": "code",
   "execution_count": null,
   "metadata": {},
   "outputs": [],
   "source": [
    "# format membuat dict"
   ]
  },
  {
   "cell_type": "code",
   "execution_count": 36,
   "metadata": {},
   "outputs": [
    {
     "name": "stdout",
     "output_type": "stream",
     "text": [
      "89.6\n"
     ]
    }
   ],
   "source": [
    "# fungsi degree_converter-1\n",
    "\n",
    "def convert(fahr):\n",
    "    cels = fahr *1.8 + 32.0\n",
    "    return cels\n",
    "\n",
    "print(convert(32))"
   ]
  },
  {
   "cell_type": "code",
   "execution_count": 19,
   "metadata": {},
   "outputs": [
    {
     "name": "stdout",
     "output_type": "stream",
     "text": [
      "Temperature in celcius ( C ) (89.6, -253.15)\n"
     ]
    }
   ],
   "source": [
    "# fungsi degree_converter-2\n",
    "\n",
    "def convert(fahr, kelv):\n",
    "    cels = fahr *1.8 + 32.0\n",
    "    cels2 = kelv - 273.15\n",
    "    cels2 = round(cels2, 2)\n",
    "    return cels, cels2\n",
    "\n",
    "print('Temperature in celcius ( C )',convert(32,20))"
   ]
  },
  {
   "cell_type": "markdown",
   "metadata": {},
   "source": [
    "## B. Modul\n",
    "\n",
    "Ketika kita bisa memakai suatu fungsi dari file lainnya."
   ]
  },
  {
   "cell_type": "code",
   "execution_count": 42,
   "metadata": {},
   "outputs": [],
   "source": [
    "import D3PMModul_1"
   ]
  },
  {
   "cell_type": "code",
   "execution_count": 43,
   "metadata": {},
   "outputs": [
    {
     "name": "stdout",
     "output_type": "stream",
     "text": [
      "Halo, salam kenal Hana\n"
     ]
    }
   ],
   "source": [
    "D3PMModul_1.greeting('Hana')"
   ]
  },
  {
   "cell_type": "code",
   "execution_count": 44,
   "metadata": {},
   "outputs": [],
   "source": [
    "import D3PMModul_1 as m1"
   ]
  },
  {
   "cell_type": "code",
   "execution_count": 45,
   "metadata": {},
   "outputs": [
    {
     "name": "stdout",
     "output_type": "stream",
     "text": [
      "Halo, salam kenal Hana\n"
     ]
    }
   ],
   "source": [
    "m1.greeting('Hana')"
   ]
  },
  {
   "cell_type": "code",
   "execution_count": 46,
   "metadata": {},
   "outputs": [],
   "source": [
    "from D3PMModul_2 import person_1"
   ]
  },
  {
   "cell_type": "code",
   "execution_count": 47,
   "metadata": {},
   "outputs": [
    {
     "data": {
      "text/plain": [
       "dict_keys(['name', 'age', 'country'])"
      ]
     },
     "execution_count": 47,
     "metadata": {},
     "output_type": "execute_result"
    }
   ],
   "source": [
    "person_1.keys()"
   ]
  },
  {
   "cell_type": "code",
   "execution_count": 49,
   "metadata": {},
   "outputs": [
    {
     "data": {
      "text/plain": [
       "'Indonesia'"
      ]
     },
     "execution_count": 49,
     "metadata": {},
     "output_type": "execute_result"
    }
   ],
   "source": [
    "person_1['country']"
   ]
  },
  {
   "cell_type": "code",
   "execution_count": null,
   "metadata": {},
   "outputs": [],
   "source": [
    "from D3PMModul_2 import *"
   ]
  },
  {
   "cell_type": "markdown",
   "metadata": {},
   "source": [
    "## C. Package\n",
    "\n",
    "Terdiri dari bbrp modul."
   ]
  },
  {
   "cell_type": "markdown",
   "metadata": {},
   "source": [
    "## D. Library\n",
    "\n",
    "Libary yang populer di Python:\n",
    "- Pandas\n",
    "- Numpy\n",
    "- Matplotlib\n",
    "- Scikit Learn\n",
    "- Tensor Flow"
   ]
  },
  {
   "cell_type": "markdown",
   "metadata": {},
   "source": [
    "## Summary"
   ]
  },
  {
   "cell_type": "markdown",
   "metadata": {},
   "source": [
    "- function: pembungkus koding yang bisa dipanggil berkali-kali\n",
    "- modul: terdiri dari bbrp function\n",
    "- package: terdiri dari bbrp modul\n",
    "- libary: terdiri dari bbrp package untuk tujuan tertentu"
   ]
  }
 ],
 "metadata": {
  "kernelspec": {
   "display_name": "Python 3.9.12 ('base')",
   "language": "python",
   "name": "python3"
  },
  "language_info": {
   "codemirror_mode": {
    "name": "ipython",
    "version": 3
   },
   "file_extension": ".py",
   "mimetype": "text/x-python",
   "name": "python",
   "nbconvert_exporter": "python",
   "pygments_lexer": "ipython3",
   "version": "3.9.12"
  },
  "orig_nbformat": 4,
  "vscode": {
   "interpreter": {
    "hash": "ad2bdc8ecc057115af97d19610ffacc2b4e99fae6737bb82f5d7fb13d2f2c186"
   }
  }
 },
 "nbformat": 4,
 "nbformat_minor": 2
}
