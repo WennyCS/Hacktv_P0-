{
 "cells": [
  {
   "cell_type": "markdown",
   "metadata": {},
   "source": [
    "# Print"
   ]
  },
  {
   "cell_type": "code",
   "execution_count": 8,
   "metadata": {},
   "outputs": [
    {
     "name": "stdout",
     "output_type": "stream",
     "text": [
      "Hello\n",
      "Hello Wenny\n",
      "Hello Wenny\n",
      "Hello Wenny\n",
      "Hello\n",
      "Hello\n",
      "Hello\n",
      "Wenny\n",
      "Hello Wenny\n",
      "'Wenny'\n",
      "Hello2\n",
      "Hello 2\n",
      "22\n",
      "4\n"
     ]
    }
   ],
   "source": [
    "print('Hello') # single quote\n",
    "\n",
    "# concatenation w/ + or ,\n",
    "print('Hello '+'Wenny') \n",
    "print('Hello'+' '+'Wenny')\n",
    "print('Hello','Wenny')\n",
    "\n",
    "print(\"Hello\") # double quote\n",
    "\n",
    "# triple quote f/ more than 1 line\n",
    "print('''Hello''')\n",
    "print('''Hello\n",
    "Wenny''')\n",
    "print('''Hello \\\n",
    "Wenny''')   # backslash atau escape character f/ a too long sentence\n",
    "\n",
    "# escape character\n",
    "print('\\'Wenny\\'')\n",
    "\n",
    "# concatenation f/ different data types\n",
    "# error: print('Hello'+ 2)\n",
    "print('Hello'+'2') # tipe data disamakan str and str\n",
    "print('Hello',2) # menggunakan ,\n",
    "print('2'+'2') # concatenation str w/ str\n",
    "print(2+2) # sum: int atau float + int atau float operasi matematika"
   ]
  },
  {
   "cell_type": "markdown",
   "metadata": {},
   "source": [
    "# Cek Tipe Data"
   ]
  },
  {
   "cell_type": "code",
   "execution_count": 67,
   "metadata": {},
   "outputs": [
    {
     "name": "stdout",
     "output_type": "stream",
     "text": [
      "<class 'int'>\n",
      "<class 'str'>\n",
      "<class 'str'>\n",
      "<class 'float'>\n",
      "<class 'bool'>\n",
      "<class 'bool'>\n",
      "<class 'NoneType'>\n",
      "True\n",
      "True\n",
      "False\n"
     ]
    }
   ],
   "source": [
    "print(type(2))          # int\n",
    "print(type('2'))        # str\n",
    "print(type('Wenny'))    # str\n",
    "print(type(2.0))        # float\n",
    "print(type(True))       # bool\n",
    "print(type(False))      # bool\n",
    "print(type(None))       # Nonetype\n",
    "\n",
    "print(isinstance('Jeruk',str))\n",
    "print(isinstance(2.0, float))\n",
    "print(isinstance('Mangga', int))"
   ]
  },
  {
   "cell_type": "code",
   "execution_count": 16,
   "metadata": {},
   "outputs": [
    {
     "name": "stdout",
     "output_type": "stream",
     "text": [
      "False\n",
      "False\n",
      "False\n",
      "False\n",
      "True\n",
      "True\n",
      "True\n",
      "True\n"
     ]
    }
   ],
   "source": [
    "# bool condition False: memeriksa kondisi True/False\n",
    "print(bool(False))\n",
    "print(bool(0))\n",
    "print(bool(''))\n",
    "print(bool([]))\n",
    "\n",
    "# bool condition True: memeriksa kondisi True/False\n",
    "print(bool(True))\n",
    "print(bool(1))\n",
    "print(bool(' '))\n",
    "print(bool([2, 'ayam']))"
   ]
  },
  {
   "cell_type": "code",
   "execution_count": 17,
   "metadata": {},
   "outputs": [
    {
     "name": "stdout",
     "output_type": "stream",
     "text": [
      "<class 'str'>\n",
      "<class 'int'>\n"
     ]
    }
   ],
   "source": [
    "# casting tipe data\n",
    "print(type(str(2)))\n",
    "print(type(int('2')))"
   ]
  },
  {
   "cell_type": "markdown",
   "metadata": {},
   "source": [
    "# Comment"
   ]
  },
  {
   "cell_type": "markdown",
   "metadata": {},
   "source": [
    "Komen diawali dengan # untuk menjelaskan kode kita atau mengabaikan suatu kode"
   ]
  },
  {
   "cell_type": "code",
   "execution_count": null,
   "metadata": {},
   "outputs": [],
   "source": [
    "# print(22) untuk membatalkan penjalanan kode\n",
    "# untuk menjelaskan kode \n",
    "\n",
    "print(22)"
   ]
  },
  {
   "cell_type": "code",
   "execution_count": null,
   "metadata": {},
   "outputs": [],
   "source": [
    "# docstrings\n",
    "\n",
    "'''New Text Document.txt'''"
   ]
  },
  {
   "cell_type": "markdown",
   "metadata": {},
   "source": [
    "CTRL + / untuk mengubah menjadi beberapa baris komen sekaligus"
   ]
  },
  {
   "cell_type": "markdown",
   "metadata": {},
   "source": [
    "# Variable"
   ]
  },
  {
   "cell_type": "markdown",
   "metadata": {},
   "source": [
    "Variabel adalah tempat menyimpan data.\n",
    "\n",
    "Penulisan:\n",
    "- camelCase\n",
    "- snake_case\n",
    "- PascalCase\n",
    "\n",
    "Karakter:\n",
    "- case sensitive atau huruf besar berpengaruh.\n",
    "- overwrite variable lama.\n",
    "- tidak boleh dimulai dengan angka, bisa dimulai dengan simbol lain spt _\n",
    "- yang bagus Nama Variable menjelaskan Isi Dari Variable"
   ]
  },
  {
   "cell_type": "code",
   "execution_count": 28,
   "metadata": {},
   "outputs": [
    {
     "name": "stdout",
     "output_type": "stream",
     "text": [
      "Wenny\n",
      "Wenny\n",
      "Wenny\n",
      "Wenny\n",
      "Chandra\n",
      "halo\n"
     ]
    }
   ],
   "source": [
    "# camel\n",
    "myVariableName = 'Wenny'\n",
    "\n",
    "# snake_\n",
    "my_variable_name = 'Wenny'\n",
    "\n",
    "# Pascal\n",
    "MyVariableName = 'Wenny'\n",
    "\n",
    "print(myVariableName)\n",
    "print(my_variable_name)\n",
    "print(MyVariableName)\n",
    "\n",
    "Var1='Wenny'\n",
    "print(Var1)\n",
    "Var1='Chandra'\n",
    "print(Var1)\n",
    "\n",
    "# error: 3Var = 'Hello'\n",
    "_Var = 'Halo'\n",
    "print(_Var)"
   ]
  },
  {
   "cell_type": "code",
   "execution_count": null,
   "metadata": {},
   "outputs": [],
   "source": [
    "x = y = z = 22\n",
    "print(x)\n",
    "print(y)\n",
    "print(z)\n",
    "\n",
    "x,y,z = 21,22,23\n",
    "print(x)\n",
    "print(y)\n",
    "print(y)\n",
    "\n",
    "# error: x,y,z = 22"
   ]
  },
  {
   "cell_type": "markdown",
   "metadata": {},
   "source": [
    "# Numeric"
   ]
  },
  {
   "cell_type": "markdown",
   "metadata": {},
   "source": [
    "Terdiri atas: int, float, dan complex."
   ]
  },
  {
   "cell_type": "code",
   "execution_count": 71,
   "metadata": {},
   "outputs": [
    {
     "name": "stdout",
     "output_type": "stream",
     "text": [
      "<class 'int'>\n",
      "<class 'float'>\n",
      "<class 'float'>\n",
      "<class 'float'>\n",
      "5000.0\n",
      "0.003\n",
      "<class 'float'>\n",
      "<class 'float'>\n",
      "(3+5j)\n",
      "<class 'complex'>\n"
     ]
    }
   ],
   "source": [
    "print(type(5))\n",
    "print(type(.528))\n",
    "print(type(5.7))\n",
    "print(type(67.))\n",
    "print(5e3)\n",
    "print(3e-3)\n",
    "print(type(5e3))\n",
    "print(type(3e-3))\n",
    "print(3+5j)\n",
    "print(type(3+5j))\n"
   ]
  },
  {
   "cell_type": "code",
   "execution_count": 69,
   "metadata": {},
   "outputs": [
    {
     "name": "stdout",
     "output_type": "stream",
     "text": [
      "2\n",
      "3\n",
      "2\n",
      "2.0\n",
      "2.5\n",
      "\n",
      "5.68\n"
     ]
    }
   ],
   "source": [
    "k=round(2.5)    # pembulatan turun\n",
    "l=round(2.6)    # pembulatan naik\n",
    "j=int(2.5)      # pengambilan bilangan real\n",
    "h=float(2)\n",
    "i=float(2.5)\n",
    "z=str(2)        # pengubahan int menjadi string\n",
    "\n",
    "print(k)\n",
    "print(l)\n",
    "print(j)\n",
    "print(h)\n",
    "print(i)\n",
    "print('')\n",
    "\n",
    "n=round(5.678564, 2)    # pembulatan dengan n digit di belakang .\n",
    "print(n)"
   ]
  },
  {
   "cell_type": "code",
   "execution_count": 73,
   "metadata": {},
   "outputs": [
    {
     "name": "stdout",
     "output_type": "stream",
     "text": [
      "4\n",
      "4.5\n"
     ]
    }
   ],
   "source": [
    "# operasi matematika\n",
    "\n",
    "print(x+j)  # int + int = int  \n",
    "print(j+i)  # int + float = float"
   ]
  },
  {
   "cell_type": "markdown",
   "metadata": {},
   "source": [
    "# Slicing"
   ]
  },
  {
   "cell_type": "markdown",
   "metadata": {},
   "source": [
    "Index slicing start from 0 (zero)."
   ]
  },
  {
   "cell_type": "code",
   "execution_count": 66,
   "metadata": {},
   "outputs": [
    {
     "name": "stdout",
     "output_type": "stream",
     "text": [
      "a\n"
     ]
    }
   ],
   "source": [
    "print('ikan'[2])"
   ]
  },
  {
   "cell_type": "code",
   "execution_count": 30,
   "metadata": {},
   "outputs": [
    {
     "name": "stdout",
     "output_type": "stream",
     "text": [
      "n\n",
      "nny Chandra\n",
      "We\n",
      "r\n",
      "ra\n",
      "13\n"
     ]
    }
   ],
   "source": [
    "nama= 'Wenny Chandra'\n",
    "print(nama[2])  # index ke-2:      n\n",
    "print(nama[2:]) # index ke-2 sampai index terakhir: nny Chandra\n",
    "print(nama[:2]) # index 0 sampai index ke-2 kurang 1 yaitu index ke 1:  We\n",
    "print(nama[-2]) # index -2 dari belakang, dimulai dari -1:   r\n",
    "print(nama[-2:])    # index -2 sampai index terakhir:      ra\n",
    "print(len(nama))    # jumlah karakter"
   ]
  },
  {
   "cell_type": "code",
   "execution_count": 31,
   "metadata": {},
   "outputs": [
    {
     "name": "stdout",
     "output_type": "stream",
     "text": [
      "WENNY CHANDRA\n",
      "wenny chandra\n",
      "WeNNy ChaNdra\n",
      "['Wenny', 'Chandra']\n"
     ]
    }
   ],
   "source": [
    "print(nama.upper())\n",
    "print(nama.lower())\n",
    "print(nama.replace('n','N'))\n",
    "print(nama.split(' '))"
   ]
  },
  {
   "cell_type": "markdown",
   "metadata": {},
   "source": [
    "# Format String"
   ]
  },
  {
   "cell_type": "code",
   "execution_count": 42,
   "metadata": {},
   "outputs": [
    {
     "name": "stdout",
     "output_type": "stream",
     "text": [
      "umur saya 22 tahun\n",
      "umur saya 22 tahun\n"
     ]
    }
   ],
   "source": [
    "umur = 22\n",
    "txt = 'umur saya 22 tahun'\n",
    "\n",
    "txt_a= 'umur saya ' + str(umur) + ' tahun'\n",
    "\n",
    "print(txt)\n",
    "print(txt_a)"
   ]
  },
  {
   "cell_type": "code",
   "execution_count": 43,
   "metadata": {},
   "outputs": [
    {
     "name": "stdout",
     "output_type": "stream",
     "text": [
      "umur saya 22 tahun\n"
     ]
    }
   ],
   "source": [
    "txt_1= 'umur saya {} tahun'\n",
    "print(txt_1.format(umur))"
   ]
  },
  {
   "cell_type": "code",
   "execution_count": 36,
   "metadata": {},
   "outputs": [
    {
     "name": "stdout",
     "output_type": "stream",
     "text": [
      "Hallo nama saya Wenny Chandra, umur saya 25 tahun\n"
     ]
    }
   ],
   "source": [
    "nama= 'Wenny Chandra'\n",
    "umur= 25\n",
    "kelas= 15\n",
    "\n",
    "text_1 = 'Hallo nama saya {1}, umur saya {0} tahun, kelas {2}'\n",
    "print(text_1.format(umur,nama,kelas))"
   ]
  },
  {
   "cell_type": "code",
   "execution_count": 40,
   "metadata": {},
   "outputs": [
    {
     "name": "stdout",
     "output_type": "stream",
     "text": [
      "Hello, Wenny Chandra\n",
      "Hello, nama saya adalah Wenny Chandra, umur saya 22\n"
     ]
    }
   ],
   "source": [
    "print(f'Hello, {nama}')\n",
    "print(f'Hello, nama saya adalah {nama}, umur saya {umur}')"
   ]
  },
  {
   "cell_type": "code",
   "execution_count": 41,
   "metadata": {},
   "outputs": [
    {
     "name": "stdout",
     "output_type": "stream",
     "text": [
      "22 tahun, nama Wenny Chandra\n",
      "22.00 tahun, nama Wenny Chandra\n"
     ]
    }
   ],
   "source": [
    "print('%d tahun, nama %s' %(umur,nama))\n",
    "print('%.2f tahun, nama %s' %(umur,nama))"
   ]
  },
  {
   "cell_type": "markdown",
   "metadata": {},
   "source": [
    "# Escape Characters"
   ]
  },
  {
   "cell_type": "code",
   "execution_count": 44,
   "metadata": {},
   "outputs": [
    {
     "name": "stdout",
     "output_type": "stream",
     "text": [
      "hallo, nama saya 'Wenny'\n"
     ]
    }
   ],
   "source": [
    "txt= 'hallo, nama saya \\'Wenny\\''\n",
    "print(txt)"
   ]
  },
  {
   "cell_type": "code",
   "execution_count": 46,
   "metadata": {},
   "outputs": [
    {
     "name": "stdout",
     "output_type": "stream",
     "text": [
      "hallo \n",
      " nama saya 'Wenny'\n"
     ]
    }
   ],
   "source": [
    "txt2= 'hallo \\n nama saya \\'Wenny\\''\n",
    "print(txt2)"
   ]
  },
  {
   "cell_type": "code",
   "execution_count": 48,
   "metadata": {},
   "outputs": [
    {
     "name": "stdout",
     "output_type": "stream",
     "text": [
      "HelloWorld!\n",
      "Hello\tWorld!\n",
      "2 \\ 2\n",
      "2     2\n"
     ]
    }
   ],
   "source": [
    "print('Hello \\bWorld!')\n",
    "print('Hello\\tWorld!')\n",
    "print('2 \\ 2')\n",
    "print('2 \\\n",
    "    2')"
   ]
  },
  {
   "cell_type": "markdown",
   "metadata": {},
   "source": [
    "# List"
   ]
  },
  {
   "cell_type": "markdown",
   "metadata": {},
   "source": [
    "Karakter:\n",
    "- ditulis dengan kurung siku []\n",
    "- berurutan\n",
    "- bisa diubah\n",
    "- bisa duplikat"
   ]
  },
  {
   "cell_type": "code",
   "execution_count": null,
   "metadata": {},
   "outputs": [],
   "source": [
    "list1= ['mother','father','brother','sister']\n",
    "list2= ['2', 2, True]\n",
    "\n",
    "print(tyep(list2))\n",
    "print(list1)\n",
    "print(list2)\n",
    "\n",
    "print(list1[1])\n",
    "print(list1[:-1])\n",
    "print(' ')\n",
    "\n",
    "list1[1]='Ayah'\n",
    "print(list1)\n",
    "\n",
    "list1.insert(1,'ibu')\n",
    "list1.append('cucu')\n",
    "list1.extend(list2)\n",
    "\n",
    "list1.remove('motor')\n",
    "print(list1)\n",
    "\n",
    "list1.pop(1)\n",
    "print(list1)\n",
    "\n",
    "del list1[1]\n",
    "print(list1)\n",
    "\n",
    "del list2\n",
    "print(list2)\n",
    "\n",
    "list1.clear()\n",
    "print(list1)"
   ]
  },
  {
   "cell_type": "markdown",
   "metadata": {},
   "source": [
    "# Tuple"
   ]
  },
  {
   "cell_type": "markdown",
   "metadata": {},
   "source": [
    "- ditulis dengan kurung lingkaran ()\n",
    "- berurutan\n",
    "- tidak bisa diubah\n",
    "- bisa duplikat"
   ]
  },
  {
   "cell_type": "code",
   "execution_count": null,
   "metadata": {},
   "outputs": [],
   "source": [
    "mytuple= (motor, mobil, becak, pesawat)\n",
    "\n",
    "'''...'''\n",
    "\n",
    "# error \n",
    "# mytuple[1]='mobil'\n",
    "# print(mytuple)\n",
    "\n",
    "mytuple_cadangan= list(mytuple)\n",
    "mytuple_cadangan[1]='sepeda'\n",
    "mytuple= tuple(mytuple_cadangan)"
   ]
  },
  {
   "cell_type": "markdown",
   "metadata": {},
   "source": [
    "# Set\n",
    "\n",
    "- acak, data tidak berurutan\n",
    "- bisa diubah\n",
    "- tidak bisa duplikat"
   ]
  },
  {
   "cell_type": "code",
   "execution_count": 49,
   "metadata": {},
   "outputs": [
    {
     "name": "stdout",
     "output_type": "stream",
     "text": [
      "{'mobil', 'becak', 'motor', 'pesawat'}\n"
     ]
    }
   ],
   "source": [
    "myset= {'motor', 'mobil', 'becak', 'pesawat'}\n",
    "print(myset)"
   ]
  },
  {
   "cell_type": "code",
   "execution_count": 50,
   "metadata": {},
   "outputs": [
    {
     "name": "stdout",
     "output_type": "stream",
     "text": [
      "{'pesawat', 'motor', 'mobil', 'qq', 'becak'}\n"
     ]
    }
   ],
   "source": [
    "myset.add('qq')\n",
    "print(myset)"
   ]
  },
  {
   "cell_type": "code",
   "execution_count": 52,
   "metadata": {},
   "outputs": [
    {
     "name": "stdout",
     "output_type": "stream",
     "text": [
      "{'mobil', 'pesawat', 'bmw', 'motor', 'becak', 'honda'}\n",
      "{'mobil', 'becak', 'motor', 'pesawat'}\n"
     ]
    }
   ],
   "source": [
    "set1= {'mobil', 'becak', 'motor', 'pesawat'}\n",
    "set2= {'bmw','honda'}\n",
    "set3= set1.union(set2)\n",
    "print(set3)\n",
    "print(set1)"
   ]
  },
  {
   "cell_type": "code",
   "execution_count": 53,
   "metadata": {},
   "outputs": [
    {
     "name": "stdout",
     "output_type": "stream",
     "text": [
      "{'mobil', 'pesawat', 'bmw', 'motor', 'becak', 'honda'}\n"
     ]
    }
   ],
   "source": [
    "set1.update(set2)\n",
    "print(set1)"
   ]
  },
  {
   "cell_type": "markdown",
   "metadata": {},
   "source": [
    "# Dictionaries\n",
    "\n",
    "-"
   ]
  },
  {
   "cell_type": "code",
   "execution_count": 54,
   "metadata": {},
   "outputs": [
    {
     "name": "stdout",
     "output_type": "stream",
     "text": [
      "{'nama': 'Bagas', 'umur': 22}\n"
     ]
    }
   ],
   "source": [
    "dict_1={'nama':'Bagas',\n",
    "        'umur':22}\n",
    "print(dict_1)"
   ]
  },
  {
   "cell_type": "code",
   "execution_count": 55,
   "metadata": {},
   "outputs": [
    {
     "name": "stdout",
     "output_type": "stream",
     "text": [
      "Bagas\n",
      "Bagas\n",
      "dict_keys(['nama', 'umur'])\n",
      "dict_values(['Bagas', 22])\n",
      "dict_items([('nama', 'Bagas'), ('umur', 22)])\n"
     ]
    }
   ],
   "source": [
    "#error dict_1.nama\n",
    "\n",
    "print(dict_1['nama'])\n",
    "print(dict_1.get('nama'))\n",
    "print(dict_1.keys())\n",
    "print(dict_1.values())\n",
    "print(dict_1.items())\n",
    "print(' ')\n",
    "\n",
    "# update, remove, update, del"
   ]
  },
  {
   "cell_type": "code",
   "execution_count": 57,
   "metadata": {},
   "outputs": [
    {
     "name": "stdout",
     "output_type": "stream",
     "text": [
      "Budi\n"
     ]
    }
   ],
   "source": [
    "dict_2= {1:{'name':'Budi', 'age': 25},\n",
    "         2: {'name':'Efi', 'age': 22}}\n",
    "\n",
    "print(dict_2[1]['name'])"
   ]
  },
  {
   "cell_type": "markdown",
   "metadata": {},
   "source": [
    "# Operator Aritmatika\n",
    "w3school Python Operator\n",
    "w3resource.com/python-exercises\n",
    "\n",
    "|Operator|Description|Example|\n",
    "|---|---|---|\n",
    "|+ Addition\n",
    "|- Substraction\n",
    "|* Times\n",
    "|/\n",
    "|%\n",
    "|**\n",
    "|// "
   ]
  },
  {
   "cell_type": "markdown",
   "metadata": {},
   "source": [
    "# Assignment Operator\n",
    "\n",
    "=\n",
    "+=\n",
    "-=\n",
    "*=\n",
    "/=\n",
    "%=\n",
    "**=\n",
    "//="
   ]
  },
  {
   "cell_type": "markdown",
   "metadata": {},
   "source": [
    "# Logical Operator\n",
    "\n",
    "|Operator|Description|Example|\n",
    "|---|---|--|\n",
    "|and|Return True if both statements are True||\n",
    "|or|Return True if one of the statemments is True||\n",
    "|not|Reverse the result, returns False if the result is True||"
   ]
  },
  {
   "cell_type": "code",
   "execution_count": null,
   "metadata": {},
   "outputs": [],
   "source": []
  },
  {
   "cell_type": "code",
   "execution_count": null,
   "metadata": {},
   "outputs": [],
   "source": []
  },
  {
   "cell_type": "markdown",
   "metadata": {},
   "source": [
    "# Exercise"
   ]
  },
  {
   "cell_type": "code",
   "execution_count": 63,
   "metadata": {},
   "outputs": [
    {
     "name": "stdout",
     "output_type": "stream",
     "text": [
      "['bar', 'baz', 'quz', 'nex']\n"
     ]
    }
   ],
   "source": [
    "thislist= ['foo','bar','baz','quz','nex']\n",
    "thislist2= ['jojo','baba']\n",
    "del thislist[0]\n",
    "print(thislist)"
   ]
  },
  {
   "cell_type": "code",
   "execution_count": null,
   "metadata": {},
   "outputs": [],
   "source": [
    "thisdict = {\n",
    "    'brand':''\n",
    "}"
   ]
  },
  {
   "cell_type": "markdown",
   "metadata": {},
   "source": [
    "# Reference"
   ]
  },
  {
   "cell_type": "markdown",
   "metadata": {},
   "source": [
    "String: Italic, Bold, Color\n",
    "- https://appdividend.com/2022/07/27/how-to-print-bold-python-text/\n",
    "- https://blog.finxter.com/how-to-print-italic-text-in-python/"
   ]
  }
 ],
 "metadata": {
  "kernelspec": {
   "display_name": "Python 3.9.12 ('base')",
   "language": "python",
   "name": "python3"
  },
  "language_info": {
   "codemirror_mode": {
    "name": "ipython",
    "version": 3
   },
   "file_extension": ".py",
   "mimetype": "text/x-python",
   "name": "python",
   "nbconvert_exporter": "python",
   "pygments_lexer": "ipython3",
   "version": "3.9.12"
  },
  "orig_nbformat": 4,
  "vscode": {
   "interpreter": {
    "hash": "ad2bdc8ecc057115af97d19610ffacc2b4e99fae6737bb82f5d7fb13d2f2c186"
   }
  }
 },
 "nbformat": 4,
 "nbformat_minor": 2
}
