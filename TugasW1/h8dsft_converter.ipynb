{
 "cells": [
  {
   "cell_type": "markdown",
   "metadata": {},
   "source": [
    "# H8dsft_converter\n",
    "\n",
    "## Self introduction\n",
    "Nama: Wenny\n",
    "Batch: 8\n",
    "\n",
    "## Assignment\n",
    "- Buatlah sebuah function yang dapat mengkonversi suhu dari kelvin ke celcius, dan celcius ke kelvin.\n",
    "- Buatlah sebuah function yang dapat mengkonversi suhu ke fahrenheit. Tambahkan parameter untuk memastikan bahwa argumen yang dimasukan adalah celcius atau kelvin. Panggil function yang pertama jika diperlukan.\n",
    "- Buatlah sebuah function yang dapat mengkonversi suhu dari fahrenheit. Berikan argumen untuk memastikan bahwa outputnya dalah celcius atau kelvin.\n",
    "- Berikan dokumentasi pada setiap baris kode yang kalian tulis"
   ]
  },
  {
   "cell_type": "markdown",
   "metadata": {},
   "source": [
    "## Answer-1"
   ]
  },
  {
   "cell_type": "code",
   "execution_count": 26,
   "metadata": {},
   "outputs": [],
   "source": [
    "# membuat fungsi\n",
    "\n",
    "def kelvin_celcius_converter (temp, input_scale, output_scale):\n",
    "    '''convert kelvin to celcius or celcius to kelvin'''\n",
    "    '''input: temp in int or float, input_scale in string between 'K' or 'C',\n",
    "               output_scale in string between 'K' or 'C' '''\n",
    "    if input_scale == 'K' and output_scale == 'C':\n",
    "        celcius = temp - 273.15\n",
    "        print(f'Kelvin to Celcius: {celcius:.2f} C')   \n",
    "    elif input_scale == 'C' and output_scale == 'K':\n",
    "        kelvin = temp + 273.15\n",
    "        print(f'Celcius to Kelvin: {kelvin:.2f} K')\n",
    "    else:\n",
    "        print('Sorry, kelvin_celcius_converter only accepts Kelvin or Celcius temperature.')\n",
    "\n",
    "# Apakah fungsi print() dan fungsi return tidak bisa digunakan bersamaan sebagai output dalam sebuah fungsi buatan kita?\n",
    "# bagaimana cara mengubah argumen scale menjadi case insensitive?\n",
    "# bagaimana menggunakan input di python?\n"
   ]
  },
  {
   "cell_type": "code",
   "execution_count": 27,
   "metadata": {},
   "outputs": [
    {
     "name": "stdout",
     "output_type": "stream",
     "text": [
      "Celcius to Kelvin: 353.15 K\n",
      "\u001b[1;3mSorry, kelvin_celcius_converter only accept Kelvin or Celcius temperature.\u001b[0m\n"
     ]
    }
   ],
   "source": [
    "# menggunakan fungsi\n",
    "\n",
    "kelvin_celcius_converter(80, 'C', 'K')"
   ]
  },
  {
   "cell_type": "code",
   "execution_count": 28,
   "metadata": {},
   "outputs": [
    {
     "name": "stdout",
     "output_type": "stream",
     "text": [
      "Kelvin to Celcius: -193.15 C\n",
      "\u001b[1;3mSorry, kelvin_celcius_converter only accept Kelvin or Celcius temperature.\u001b[0m\n"
     ]
    }
   ],
   "source": [
    "# menggunakan fungsi\n",
    "\n",
    "kelvin_celcius_converter(80,'K', 'C')"
   ]
  },
  {
   "cell_type": "code",
   "execution_count": 23,
   "metadata": {},
   "outputs": [
    {
     "name": "stdout",
     "output_type": "stream",
     "text": [
      "\u001b[1;3mSorry, kelvin_celcius_converter only accept Kelvin or Celcius temperature.\u001b[0m\n"
     ]
    }
   ],
   "source": [
    "# menggunakan fungsi\n",
    "\n",
    "kelvin_celcius_converter(80, 'R', 'F')"
   ]
  },
  {
   "cell_type": "markdown",
   "metadata": {},
   "source": [
    "# Answer-2"
   ]
  },
  {
   "cell_type": "code",
   "execution_count": 29,
   "metadata": {},
   "outputs": [],
   "source": [
    "# membuat fungsi\n",
    "\n",
    "def to_fahrenheit_converter(temp,input_scale):\n",
    "    '''convert celcius or kelvin to fahrenheit'''\n",
    "    '''input: temp in int or float, input_scale in string between 'K' or 'C' '''\n",
    "    if input_scale == 'K':\n",
    "        Celcius = temp - 273.15\n",
    "        Fahrenheit = (9/5)*Celcius + 32\n",
    "        print(f'Kelvin to Fahrenheit: {Fahrenheit:.2f} F')\n",
    "    elif input_scale == 'C':\n",
    "        Fahrenheit = (9/5)*temp +32\n",
    "        print(f'Celcius to Fahrenheit: {Fahrenheit:.2f} F')\n",
    "    else:\n",
    "        print('Sorry, to_fahrenheit_converter only accepts Kelvin or Celcius temperature.')"
   ]
  },
  {
   "cell_type": "code",
   "execution_count": 30,
   "metadata": {},
   "outputs": [
    {
     "name": "stdout",
     "output_type": "stream",
     "text": [
      "Kelvin to Fahrenheit: -423.67 F\n"
     ]
    }
   ],
   "source": [
    "# menggunakan fungsi\n",
    "\n",
    "to_fahrenheit_converter(20,'K')"
   ]
  },
  {
   "cell_type": "code",
   "execution_count": 31,
   "metadata": {},
   "outputs": [
    {
     "name": "stdout",
     "output_type": "stream",
     "text": [
      "Celcius to Fahrenheit: 68.00 F\n"
     ]
    }
   ],
   "source": [
    "# menggunakan fungsi\n",
    "\n",
    "to_fahrenheit_converter(20,'C')"
   ]
  },
  {
   "cell_type": "code",
   "execution_count": 32,
   "metadata": {},
   "outputs": [
    {
     "name": "stdout",
     "output_type": "stream",
     "text": [
      "Sorry, to_fahrenheit_converter only accept Kelvin or Celcius temperature.\n"
     ]
    }
   ],
   "source": [
    "# menggunakan fungsi\n",
    "\n",
    "to_fahrenheit_converter(20,'R')"
   ]
  },
  {
   "cell_type": "markdown",
   "metadata": {},
   "source": [
    "# Answer-3"
   ]
  },
  {
   "cell_type": "code",
   "execution_count": 33,
   "metadata": {},
   "outputs": [],
   "source": [
    "# membuat fungsi\n",
    "\n",
    "\n",
    "def fahr_to_kelvin_or_celcius_converter(temp,output_scale):\n",
    "    '''convert fahr to celcius or kelvin'''\n",
    "    '''input: temp in int or float, output_scale in string between 'K' or 'C' '''\n",
    "    if output_scale == 'K':\n",
    "        Celcius = (5/9)*temp - 32\n",
    "        Kelvin = Celcius + 273.15\n",
    "        print(f'Fahrenheit to Kelvin: {Kelvin:.2f} K')\n",
    "    elif output_scale == 'C':\n",
    "        Celcius = (5/9)*temp - 32\n",
    "        print(f'Fahrenheit to Celcius: {Celcius:.2f} C')\n",
    "    else:\n",
    "        print('\\033[1;3m' +'Sorry, fahr_to_kelvin_or_celcius_converter only converts Fahrenheit to Kelvin or Celcius scale.'+ '\\033[0m')  "
   ]
  },
  {
   "cell_type": "code",
   "execution_count": 34,
   "metadata": {},
   "outputs": [
    {
     "name": "stdout",
     "output_type": "stream",
     "text": [
      "Fahrenheit to Kelvin: 296.71 K\n"
     ]
    }
   ],
   "source": [
    "# menggunakan fungsi\n",
    "\n",
    "fahr_to_kelvin_or_celcius_converter(100,'K')"
   ]
  },
  {
   "cell_type": "code",
   "execution_count": 35,
   "metadata": {},
   "outputs": [
    {
     "name": "stdout",
     "output_type": "stream",
     "text": [
      "Fahrenheit to Celcius: 23.56 C\n"
     ]
    }
   ],
   "source": [
    "# menggunakan fungsi\n",
    "\n",
    "fahr_to_kelvin_or_celcius_converter(100,'C')"
   ]
  },
  {
   "cell_type": "code",
   "execution_count": 36,
   "metadata": {},
   "outputs": [
    {
     "name": "stdout",
     "output_type": "stream",
     "text": [
      "\u001b[1;3mSorry, fahr_to_kelvin_or_celcius_converter only converts Fahrenheit to Kelvin or Celcius scale.\u001b[0m\n"
     ]
    }
   ],
   "source": [
    "# menggunakan fungsi\n",
    "\n",
    "fahr_to_kelvin_or_celcius_converter(100,'F')"
   ]
  }
 ],
 "metadata": {
  "kernelspec": {
   "display_name": "Python 3.9.12 ('base')",
   "language": "python",
   "name": "python3"
  },
  "language_info": {
   "codemirror_mode": {
    "name": "ipython",
    "version": 3
   },
   "file_extension": ".py",
   "mimetype": "text/x-python",
   "name": "python",
   "nbconvert_exporter": "python",
   "pygments_lexer": "ipython3",
   "version": "3.9.12"
  },
  "orig_nbformat": 4,
  "vscode": {
   "interpreter": {
    "hash": "ad2bdc8ecc057115af97d19610ffacc2b4e99fae6737bb82f5d7fb13d2f2c186"
   }
  }
 },
 "nbformat": 4,
 "nbformat_minor": 2
}
