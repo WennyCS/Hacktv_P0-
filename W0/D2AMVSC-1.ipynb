{
 "cells": [
  {
   "cell_type": "code",
   "execution_count": 1,
   "metadata": {},
   "outputs": [
    {
     "name": "stdout",
     "output_type": "stream",
     "text": [
      "hello!\n",
      "hi!\n"
     ]
    }
   ],
   "source": [
    "print('hello!')\n",
    "print('hi!')"
   ]
  }
 ],
 "metadata": {
  "kernelspec": {
   "display_name": "Python 3.10.4 64-bit",
   "language": "python",
   "name": "python3"
  },
  "language_info": {
   "codemirror_mode": {
    "name": "ipython",
    "version": 3
   },
   "file_extension": ".py",
   "mimetype": "text/x-python",
   "name": "python",
   "nbconvert_exporter": "python",
   "pygments_lexer": "ipython3",
   "version": "3.10.6"
  },
  "orig_nbformat": 4,
  "vscode": {
   "interpreter": {
    "hash": "5a175e1b2892baa979664cd8dd5cab7c54c83cbb80cc46bedf48cc2a0a029536"
   }
  }
 },
 "nbformat": 4,
 "nbformat_minor": 2
}
