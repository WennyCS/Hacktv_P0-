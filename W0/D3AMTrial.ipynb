{
 "cells": [
  {
   "cell_type": "markdown",
   "metadata": {},
   "source": [
    "# Condition and Loop"
   ]
  },
  {
   "cell_type": "markdown",
   "metadata": {},
   "source": [
    "## 1. Condition\n",
    "\n",
    "- mengecek apakah kondisi benar\n",
    "- menjalankan perintah jika kondisi benar"
   ]
  },
  {
   "cell_type": "code",
   "execution_count": 1,
   "metadata": {},
   "outputs": [],
   "source": [
    "a = 20"
   ]
  },
  {
   "cell_type": "code",
   "execution_count": 2,
   "metadata": {},
   "outputs": [
    {
     "data": {
      "text/plain": [
       "True"
      ]
     },
     "execution_count": 2,
     "metadata": {},
     "output_type": "execute_result"
    }
   ],
   "source": [
    "a == 20"
   ]
  },
  {
   "cell_type": "code",
   "execution_count": 3,
   "metadata": {},
   "outputs": [
    {
     "data": {
      "text/plain": [
       "True"
      ]
     },
     "execution_count": 3,
     "metadata": {},
     "output_type": "execute_result"
    }
   ],
   "source": [
    "ini_list = [10,20,30]\n",
    "20 in ini_list"
   ]
  },
  {
   "cell_type": "code",
   "execution_count": 4,
   "metadata": {},
   "outputs": [
    {
     "name": "stdout",
     "output_type": "stream",
     "text": [
      "Hello world\n"
     ]
    }
   ],
   "source": [
    "if True:    # perintah/statement if hanya dijalankan kalau kondisi/expresionnya True\n",
    "    print('Hello world')"
   ]
  },
  {
   "cell_type": "code",
   "execution_count": 5,
   "metadata": {},
   "outputs": [],
   "source": [
    "if False:\n",
    "    print('Hello world')"
   ]
  },
  {
   "cell_type": "code",
   "execution_count": 6,
   "metadata": {},
   "outputs": [
    {
     "name": "stdout",
     "output_type": "stream",
     "text": [
      "12 di atas 10\n"
     ]
    }
   ],
   "source": [
    "# contoh sederhana\n",
    "\n",
    "angka = 12\n",
    "if angka > 10:      # Python sensitif terhadap indentasi, perintah pada if harus menggunakan indentasi.\n",
    "    print(f'{angka} di atas 10')"
   ]
  },
  {
   "cell_type": "code",
   "execution_count": 7,
   "metadata": {},
   "outputs": [
    {
     "name": "stdout",
     "output_type": "stream",
     "text": [
      "2 di bawah 10\n"
     ]
    }
   ],
   "source": [
    "angka = 2       # if untuk memeriksa kondisi ke 1, elif untuk memeriksa kondisi berikutnya 2, 3, dll, else memeriksa kondisi terakhir/sisa. # contoh if, elif, else\n",
    "\n",
    "if angka > 10:\n",
    "    print(f'{angka} di atas 10')\n",
    "elif angka < 10:\n",
    "    print(f'{angka} di bawah 10')\n",
    "else:\n",
    "    print(f'{angka} adalah 10')"
   ]
  },
  {
   "cell_type": "code",
   "execution_count": 8,
   "metadata": {},
   "outputs": [
    {
     "name": "stdout",
     "output_type": "stream",
     "text": [
      "20 adalah bilangan genap\n"
     ]
    }
   ],
   "source": [
    "# contoh pengujian bilangan genap\n",
    "\n",
    "angka = 20\n",
    "if (angka % 2 == 0):\n",
    "    print(f'{angka} adalah bilangan genap')\n",
    "else:\n",
    "    print(f'{angka} adalah bilangan ganjil')"
   ]
  },
  {
   "cell_type": "code",
   "execution_count": 9,
   "metadata": {},
   "outputs": [
    {
     "name": "stdout",
     "output_type": "stream",
     "text": [
      "20 adalah grade E\n"
     ]
    }
   ],
   "source": [
    "# contoh pemberian Grade\n",
    "\n",
    "nilai = 20\n",
    "\n",
    "if(80 <= nilai <= 100):\n",
    "    print(f'{nilai} adalah grade A')\n",
    "elif(70 <= nilai < 80):\n",
    "    print(f'{nilai} adalah grade B')\n",
    "elif(60 <= nilai < 70):\n",
    "    print(f'{nilai} adalah grade C')\n",
    "elif(40 <= nilai < 60):\n",
    "    print(f'{nilai} adalah grade D')\n",
    "else:\n",
    "    print(f'{nilai} adalah grade E')"
   ]
  },
  {
   "cell_type": "markdown",
   "metadata": {},
   "source": [
    "Grade A: 80 <= x <= 100\n",
    "\n",
    "Grade B: 70 <= x < 80\n",
    "\n",
    "Grade C: 60 <= x < 70\n",
    "\n",
    "Grade D: 40 <= x < 60\n",
    "\n",
    "Grade E: 0 <= x < 40"
   ]
  },
  {
   "cell_type": "code",
   "execution_count": 10,
   "metadata": {},
   "outputs": [
    {
     "name": "stdout",
     "output_type": "stream",
     "text": [
      "Inputkan nilai yang benar!\n"
     ]
    }
   ],
   "source": [
    "# nested if\n",
    "\n",
    "nilai = -40\n",
    "\n",
    "if 0<= nilai <=100:\n",
    "    if(80 <= nilai <= 100):\n",
    "        print(f'{nilai} adalah grade A')\n",
    "    elif(70 <= nilai < 80):\n",
    "        print(f'{nilai} adalah grade B')\n",
    "    elif(60 <= nilai < 70):\n",
    "        print(f'{nilai} adalah grade C')\n",
    "    elif(40 <= nilai < 60):\n",
    "        print(f'{nilai} adalah grade D')\n",
    "    else:\n",
    "        print(f'{nilai} adalah grade E')\n",
    "else:\n",
    "    print('Inputkan nilai yang benar!')"
   ]
  },
  {
   "cell_type": "markdown",
   "metadata": {},
   "source": [
    "## 2. Looping\n",
    "\n",
    "u/ perulangan perintah berkali selama kondisi masih True, terdiri atas:\n",
    "- while loop\n",
    "- for loop\n",
    "\n",
    "i = iterasi atau hitungan berapa kali perulangan\n",
    "\n",
    "- **while loop** u/ melakukan perintah, namun bisa juga untuk mengabsen. Dikontrol dengan iterasi.\n",
    "- **for loop** u/ mengabsen data sequence, set, dictionary. Dikontrol dengan isi dari data yang diabsen dan range. Bisa juga mengakses sampai index data tertentu."
   ]
  },
  {
   "cell_type": "markdown",
   "metadata": {},
   "source": [
    "### A. While loop\n",
    "\n",
    "akan melakukan pengulangan perintah selama kondisi True."
   ]
  },
  {
   "cell_type": "code",
   "execution_count": 11,
   "metadata": {},
   "outputs": [],
   "source": [
    "# while True:\n",
    "#     print('hello world')"
   ]
  },
  {
   "cell_type": "code",
   "execution_count": 12,
   "metadata": {},
   "outputs": [],
   "source": [
    "while False:\n",
    "    print('hello world')\n"
   ]
  },
  {
   "cell_type": "code",
   "execution_count": 13,
   "metadata": {},
   "outputs": [],
   "source": [
    "i = 0   # i adalah iterasi. Harus didefinisikan sebelumnya.\n",
    "\n",
    "# while i<5:\n",
    "#     print(i)"
   ]
  },
  {
   "cell_type": "code",
   "execution_count": 14,
   "metadata": {},
   "outputs": [
    {
     "name": "stdout",
     "output_type": "stream",
     "text": [
      "0\n",
      "1\n",
      "2\n",
      "3\n",
      "4\n"
     ]
    }
   ],
   "source": [
    "i = 0                   # i sebagai pengontrol/berapa kali pengulangan. Definisikan nilai awal i\n",
    "\n",
    "while i<5:\n",
    "    print(i)\n",
    "    i = i + 1           # i sebagai pengontrol/berapa kali pengulangan"
   ]
  },
  {
   "cell_type": "code",
   "execution_count": 15,
   "metadata": {},
   "outputs": [
    {
     "name": "stdout",
     "output_type": "stream",
     "text": [
      "5 x 1 = 5\n",
      "5 x 2 = 10\n",
      "5 x 3 = 15\n",
      "5 x 4 = 20\n",
      "5 x 5 = 25\n",
      "5 x 6 = 30\n",
      "5 x 7 = 35\n",
      "5 x 8 = 40\n",
      "5 x 9 = 45\n",
      "5 x 10 = 50\n"
     ]
    }
   ],
   "source": [
    "# contoh tabel perkalian\n",
    "\n",
    "i = 1\n",
    "\n",
    "while i <= 10:\n",
    "    print(f'5 x {i} = {5*i}')\n",
    "    i = i + 1"
   ]
  },
  {
   "cell_type": "code",
   "execution_count": null,
   "metadata": {},
   "outputs": [],
   "source": [
    "## nested while\n",
    "## urutan: while awal, while dalam, lanjutan while awal, while awal, while dalam, lanjutan while awal sampai iterasi False/selesai.\n",
    "\n",
    "i = 1\n",
    "j = 1\n",
    "\n",
    "while i <= 10:\n",
    "  while j <=10:\n",
    "    print(f'{i} x {j} = {i*j}')\n",
    "    j = j + 1\n",
    "  print('-'*10)\n",
    "  i += 1\n",
    "  j = 1"
   ]
  },
  {
   "cell_type": "code",
   "execution_count": 16,
   "metadata": {},
   "outputs": [
    {
     "name": "stdout",
     "output_type": "stream",
     "text": [
      "saya umurnya 20 tahun\n",
      "saya umurnya 20 tahun\n",
      "saya umurnya 20 tahun\n"
     ]
    }
   ],
   "source": [
    "# contoh formated string dan placeholder\n",
    "\n",
    "umur = 20\n",
    "print('saya umurnya', umur, 'tahun')\n",
    "print(f'saya umurnya {umur} tahun')\n",
    "print('saya umurnya {} tahun'.format(umur))"
   ]
  },
  {
   "cell_type": "markdown",
   "metadata": {},
   "source": [
    "### B. For loop\n",
    "\n",
    "mengabsen data sequence: list, tuple, set, dst.\n",
    "\n",
    "Data sequence: data yang punya index."
   ]
  },
  {
   "cell_type": "code",
   "execution_count": 17,
   "metadata": {},
   "outputs": [
    {
     "data": {
      "text/plain": [
       "['tokyo', 'jakarta', 'surabaya', 'bandung']"
      ]
     },
     "execution_count": 17,
     "metadata": {},
     "output_type": "execute_result"
    }
   ],
   "source": [
    "cities =  ['tokyo', 'jakarta', 'surabaya', 'bandung']\n",
    "cities"
   ]
  },
  {
   "cell_type": "code",
   "execution_count": 18,
   "metadata": {},
   "outputs": [
    {
     "data": {
      "text/plain": [
       "'bandung'"
      ]
     },
     "execution_count": 18,
     "metadata": {},
     "output_type": "execute_result"
    }
   ],
   "source": [
    "cities[0]\n",
    "cities[1]\n",
    "cities[2]\n",
    "cities[3]"
   ]
  },
  {
   "cell_type": "code",
   "execution_count": 19,
   "metadata": {},
   "outputs": [
    {
     "name": "stdout",
     "output_type": "stream",
     "text": [
      "tokyo\n",
      "jakarta\n",
      "surabaya\n",
      "bandung\n"
     ]
    }
   ],
   "source": [
    "for i in cities:    # i tidak usah di-defined karena i adalah semua isi dari cities/ sequence data.\n",
    "    print(i)"
   ]
  },
  {
   "cell_type": "code",
   "execution_count": 20,
   "metadata": {},
   "outputs": [
    {
     "data": {
      "text/plain": [
       "4"
      ]
     },
     "execution_count": 20,
     "metadata": {},
     "output_type": "execute_result"
    }
   ],
   "source": [
    "len(cities)"
   ]
  },
  {
   "cell_type": "code",
   "execution_count": 34,
   "metadata": {},
   "outputs": [
    {
     "name": "stdout",
     "output_type": "stream",
     "text": [
      "kamu0\n",
      "kamu1\n",
      "kamu2\n",
      "kamu3\n"
     ]
    }
   ],
   "source": [
    "i = 0\n",
    "while i < len(cities):\n",
    "    print(f'kamu{i}')\n",
    "    i=i+1"
   ]
  },
  {
   "cell_type": "code",
   "execution_count": 39,
   "metadata": {},
   "outputs": [
    {
     "name": "stdout",
     "output_type": "stream",
     "text": [
      "tokyo 0\n",
      "jakarta 1\n",
      "surabaya 2\n",
      "bandung 3\n"
     ]
    }
   ],
   "source": [
    "# while vs loop, while juga bisa untuk mengabsen\n",
    "i = 0\n",
    "while i < len(cities):\n",
    "    print(f'{cities[i]} {i}')        # untuk mengakses index\n",
    "    i += 1"
   ]
  },
  {
   "cell_type": "code",
   "execution_count": 42,
   "metadata": {},
   "outputs": [
    {
     "data": {
      "text/plain": [
       "range(1, 11)"
      ]
     },
     "execution_count": 42,
     "metadata": {},
     "output_type": "execute_result"
    }
   ],
   "source": [
    "# range\n",
    "range(1,11)"
   ]
  },
  {
   "cell_type": "code",
   "execution_count": 43,
   "metadata": {},
   "outputs": [
    {
     "data": {
      "text/plain": [
       "[1, 2, 3, 4, 5, 6, 7, 8, 9, 10]"
      ]
     },
     "execution_count": 43,
     "metadata": {},
     "output_type": "execute_result"
    }
   ],
   "source": [
    "list(range(1,11))"
   ]
  },
  {
   "cell_type": "code",
   "execution_count": 24,
   "metadata": {},
   "outputs": [
    {
     "name": "stdout",
     "output_type": "stream",
     "text": [
      "5 x 0 = 0\n",
      "5 x 1 = 5\n",
      "5 x 2 = 10\n",
      "5 x 3 = 15\n",
      "5 x 4 = 20\n",
      "5 x 5 = 25\n",
      "5 x 6 = 30\n",
      "5 x 7 = 35\n",
      "5 x 8 = 40\n",
      "5 x 9 = 45\n",
      "5 x 10 = 50\n"
     ]
    }
   ],
   "source": [
    "# for ... in range ...\n",
    "\n",
    "for i in range(1,11):\n",
    "    print(f'5 x {i} = {5*i}')\n"
   ]
  },
  {
   "cell_type": "markdown",
   "metadata": {},
   "source": [
    "Dipilih aja mana yang lebih efisien antara for loop dan while loop"
   ]
  },
  {
   "cell_type": "code",
   "execution_count": 26,
   "metadata": {},
   "outputs": [
    {
     "name": "stdout",
     "output_type": "stream",
     "text": [
      "1 x 1 = 1\n",
      "1 x 2 = 2\n",
      "1 x 3 = 3\n",
      "1 x 4 = 4\n",
      "1 x 5 = 5\n",
      "1 x 6 = 6\n",
      "1 x 7 = 7\n",
      "1 x 8 = 8\n",
      "1 x 9 = 9\n",
      "1 x 10 = 10\n",
      "----------\n",
      "2 x 1 = 2\n",
      "2 x 2 = 4\n",
      "2 x 3 = 6\n",
      "2 x 4 = 8\n",
      "2 x 5 = 10\n",
      "2 x 6 = 12\n",
      "2 x 7 = 14\n",
      "2 x 8 = 16\n",
      "2 x 9 = 18\n",
      "2 x 10 = 20\n",
      "----------\n",
      "3 x 1 = 3\n",
      "3 x 2 = 6\n",
      "3 x 3 = 9\n",
      "3 x 4 = 12\n",
      "3 x 5 = 15\n",
      "3 x 6 = 18\n",
      "3 x 7 = 21\n",
      "3 x 8 = 24\n",
      "3 x 9 = 27\n",
      "3 x 10 = 30\n",
      "----------\n",
      "4 x 1 = 4\n",
      "4 x 2 = 8\n",
      "4 x 3 = 12\n",
      "4 x 4 = 16\n",
      "4 x 5 = 20\n",
      "4 x 6 = 24\n",
      "4 x 7 = 28\n",
      "4 x 8 = 32\n",
      "4 x 9 = 36\n",
      "4 x 10 = 40\n",
      "----------\n",
      "5 x 1 = 5\n",
      "5 x 2 = 10\n",
      "5 x 3 = 15\n",
      "5 x 4 = 20\n",
      "5 x 5 = 25\n",
      "5 x 6 = 30\n",
      "5 x 7 = 35\n",
      "5 x 8 = 40\n",
      "5 x 9 = 45\n",
      "5 x 10 = 50\n",
      "----------\n",
      "6 x 1 = 6\n",
      "6 x 2 = 12\n",
      "6 x 3 = 18\n",
      "6 x 4 = 24\n",
      "6 x 5 = 30\n",
      "6 x 6 = 36\n",
      "6 x 7 = 42\n",
      "6 x 8 = 48\n",
      "6 x 9 = 54\n",
      "6 x 10 = 60\n",
      "----------\n",
      "7 x 1 = 7\n",
      "7 x 2 = 14\n",
      "7 x 3 = 21\n",
      "7 x 4 = 28\n",
      "7 x 5 = 35\n",
      "7 x 6 = 42\n",
      "7 x 7 = 49\n",
      "7 x 8 = 56\n",
      "7 x 9 = 63\n",
      "7 x 10 = 70\n",
      "----------\n",
      "8 x 1 = 8\n",
      "8 x 2 = 16\n",
      "8 x 3 = 24\n",
      "8 x 4 = 32\n",
      "8 x 5 = 40\n",
      "8 x 6 = 48\n",
      "8 x 7 = 56\n",
      "8 x 8 = 64\n",
      "8 x 9 = 72\n",
      "8 x 10 = 80\n",
      "----------\n",
      "9 x 1 = 9\n",
      "9 x 2 = 18\n",
      "9 x 3 = 27\n",
      "9 x 4 = 36\n",
      "9 x 5 = 45\n",
      "9 x 6 = 54\n",
      "9 x 7 = 63\n",
      "9 x 8 = 72\n",
      "9 x 9 = 81\n",
      "9 x 10 = 90\n",
      "----------\n",
      "10 x 1 = 10\n",
      "10 x 2 = 20\n",
      "10 x 3 = 30\n",
      "10 x 4 = 40\n",
      "10 x 5 = 50\n",
      "10 x 6 = 60\n",
      "10 x 7 = 70\n",
      "10 x 8 = 80\n",
      "10 x 9 = 90\n",
      "10 x 10 = 100\n",
      "----------\n"
     ]
    }
   ],
   "source": [
    "## nested for\n",
    "\n",
    "for i in range (1,11):\n",
    "    for j in range (1,11):\n",
    "        print(f'{i} x {j} = {i*j}')\n",
    "    print('-'*10)"
   ]
  },
  {
   "cell_type": "code",
   "execution_count": 27,
   "metadata": {},
   "outputs": [
    {
     "name": "stdout",
     "output_type": "stream",
     "text": [
      "1\n",
      "2\n",
      "3\n",
      "4\n",
      "5\n"
     ]
    }
   ],
   "source": [
    "# mengakses sampai index tertentu dengan for\n",
    "\n",
    "a= [1,2,3,4,5,6,7,8,9,10]\n",
    "\n",
    "for i in range(5):\n",
    "    print(a[i])"
   ]
  },
  {
   "cell_type": "markdown",
   "metadata": {},
   "source": [
    "## 3. Flow Control Statement\n",
    "\n",
    "- continue\n",
    "- break\n",
    "- pass"
   ]
  },
  {
   "cell_type": "markdown",
   "metadata": {},
   "source": [
    "### A. Continue\n",
    "skip/ menghentikan iterasi saat itu dan melanjutkan ke iterasi berikutnya"
   ]
  },
  {
   "cell_type": "code",
   "execution_count": 29,
   "metadata": {},
   "outputs": [
    {
     "name": "stdout",
     "output_type": "stream",
     "text": [
      "0\n",
      "1\n",
      "3\n",
      "4\n",
      "6\n",
      "8\n",
      "9\n",
      "10\n"
     ]
    }
   ],
   "source": [
    "for i in range (0,11):\n",
    "    if (i in [2,5,7]):\n",
    "        continue\n",
    "    print(i)"
   ]
  },
  {
   "cell_type": "markdown",
   "metadata": {},
   "source": [
    "### B. Break\n",
    "Keluar dari perulangan."
   ]
  },
  {
   "cell_type": "code",
   "execution_count": 30,
   "metadata": {},
   "outputs": [
    {
     "name": "stdout",
     "output_type": "stream",
     "text": [
      "0\n",
      "1\n"
     ]
    }
   ],
   "source": [
    "for i in range (0,11):\n",
    "    if (i in [2,5,7]):\n",
    "        break\n",
    "    print(i)"
   ]
  },
  {
   "cell_type": "markdown",
   "metadata": {},
   "source": [
    "### C. Pass\n",
    "\n",
    "menghindari error sampai kode ditulis."
   ]
  },
  {
   "cell_type": "code",
   "execution_count": 31,
   "metadata": {},
   "outputs": [
    {
     "name": "stdout",
     "output_type": "stream",
     "text": [
      "Inputkan nilai yang benar!\n"
     ]
    }
   ],
   "source": [
    "nilai = -40\n",
    "\n",
    "if 0<= nilai <=100:\n",
    "    if(80 <= nilai <= 100):\n",
    "       pass                             # dikosongi tapi tidak error\n",
    "    elif(70 <= nilai < 80):\n",
    "        pass                            # dikosongi tapi tidak error\n",
    "    elif(60 <= nilai < 70):\n",
    "        print(f'{nilai} adalah grade C')\n",
    "    elif(40 <= nilai < 60):\n",
    "        print(f'{nilai} adalah grade D')\n",
    "    else:\n",
    "        print(f'{nilai} adalah grade E')\n",
    "else:\n",
    "    print('Inputkan nilai yang benar!')"
   ]
  }
 ],
 "metadata": {
  "kernelspec": {
   "display_name": "Python 3.9.12 ('base')",
   "language": "python",
   "name": "python3"
  },
  "language_info": {
   "codemirror_mode": {
    "name": "ipython",
    "version": 3
   },
   "file_extension": ".py",
   "mimetype": "text/x-python",
   "name": "python",
   "nbconvert_exporter": "python",
   "pygments_lexer": "ipython3",
   "version": "3.9.12"
  },
  "orig_nbformat": 4,
  "vscode": {
   "interpreter": {
    "hash": "ad2bdc8ecc057115af97d19610ffacc2b4e99fae6737bb82f5d7fb13d2f2c186"
   }
  }
 },
 "nbformat": 4,
 "nbformat_minor": 2
}
