{
 "cells": [
  {
   "cell_type": "markdown",
   "metadata": {},
   "source": [
    "# H8dsft_looping\n",
    "\n",
    "## Data diri\n",
    "Nama: Wenny\n",
    "Batch: 8\n",
    "\n",
    "## Assignment\n",
    "- Buatlahsebuahlistdenganvalueberupa:numbers=[951,402,984,651,360,69,408,319,601,485,980,507,725,547,544,615,83,165,141,501,263,617,865,575,219,390,984,592,236,105,942,941,386,462,47,418,907,344,236,375,823,566,597,978,328,615,953,345,399,162,758,219,918,237,412,566,826,248,866,950,626,949]\n",
    "- Loop dan print semua angka genap dari list angka diatas denganurutan yangsama.\n",
    "- Janganmencetakangkaapapunyangmunculsetelahangka918berdasarkanposisiangkatersebutpadalistdiatas.\n",
    "- Tampilkanpesan ”Done”setelahloopingberakhir."
   ]
  },
  {
   "cell_type": "markdown",
   "metadata": {},
   "source": [
    "## Jawaban\n",
    "\n",
    "1. Membuat list numbers"
   ]
  },
  {
   "cell_type": "code",
   "execution_count": 2,
   "metadata": {},
   "outputs": [
    {
     "name": "stdout",
     "output_type": "stream",
     "text": [
      "[951, 402, 984, 651, 360, 69, 408, 319, 601, 485, 980, 507, 725, 547, 544, 615, 83, 165, 141, 501, 263, 617, 865, 575, 219, 390, 984, 592, 236, 105, 942, 941, 386, 462, 47, 418, 907, 344, 236, 375, 823, 566, 597, 978, 328, 615, 953, 345, 399, 162, 758, 219, 918, 237, 412, 566, 826, 248, 866, 950, 626, 949]\n"
     ]
    }
   ],
   "source": [
    "numbers = [951,402,984,651,360,69,408,319,601,485,980,507,725,547,544,615,83,165,141,501,\n",
    "           263,617,865,575,219,390,984,592,236,105,942,941,386,462,47,418,907,344,236,375,\n",
    "           823,566,597,978,328,615,953,345,399,162,758,219,918,237,412,566,826,248,866,950,\n",
    "           626,949]\n",
    "\n",
    "print(numbers)"
   ]
  },
  {
   "cell_type": "markdown",
   "metadata": {},
   "source": [
    "2. Loop dan Print semua angka genap dari list angka di atas dengan urutan yang sama."
   ]
  },
  {
   "cell_type": "code",
   "execution_count": 11,
   "metadata": {},
   "outputs": [
    {
     "name": "stdout",
     "output_type": "stream",
     "text": [
      "[402, 984, 360, 408, 980, 544, 390, 984, 592, 236, 942, 386, 462, 418, 344, 236, 566, 978, 328, 162, 758, 918, 412, 566, 826, 248, 866, 950, 626]\n"
     ]
    }
   ],
   "source": [
    "newlist=[]\n",
    "\n",
    "for i in numbers:\n",
    "    if i % 2 == 0:\n",
    "        newlist.append(i)\n",
    "\n",
    "print(newlist)"
   ]
  },
  {
   "cell_type": "markdown",
   "metadata": {},
   "source": [
    "3. Jangan mencetak apapun setelah angka 108"
   ]
  },
  {
   "cell_type": "code",
   "execution_count": 17,
   "metadata": {},
   "outputs": [
    {
     "name": "stdout",
     "output_type": "stream",
     "text": [
      "[402, 984, 360, 408, 980, 544, 390, 984, 592, 236, 942, 386, 462, 418, 344, 236, 566, 978, 328, 162, 758]\n"
     ]
    }
   ],
   "source": [
    "newlist=[]\n",
    "\n",
    "for i in numbers:\n",
    "    if i == 918:\n",
    "        break\n",
    "    if i % 2 == 0:\n",
    "        newlist.append(i)\n",
    "    \n",
    "\n",
    "print(newlist)"
   ]
  },
  {
   "cell_type": "markdown",
   "metadata": {},
   "source": [
    "4. Tampilkan pesan \"Done\" setelah looping berakhir"
   ]
  },
  {
   "cell_type": "code",
   "execution_count": null,
   "metadata": {},
   "outputs": [],
   "source": [
    "newlist=[]\n",
    "\n",
    "for i in numbers:\n",
    "    if i == 918:\n",
    "        newlist.append('Done!')\n",
    "        break\n",
    "    if i % 2 == 0:\n",
    "        newlist.append(i)\n",
    "    \n",
    "\n",
    "print(newlist)"
   ]
  },
  {
   "cell_type": "code",
   "execution_count": null,
   "metadata": {},
   "outputs": [],
   "source": [
    "# newlist=[]\n",
    "\n",
    "# for i in numbers:\n",
    "#     if i == 918:\n",
    "#         newlist.append('Done!')\n",
    "#         break\n",
    "#     if i % 2 == 0:\n",
    "#         newlist.append(i)\n",
    "    \n",
    "\n",
    "# print(newlist)"
   ]
  }
 ],
 "metadata": {
  "kernelspec": {
   "display_name": "Python 3.9.12 ('base')",
   "language": "python",
   "name": "python3"
  },
  "language_info": {
   "codemirror_mode": {
    "name": "ipython",
    "version": 3
   },
   "file_extension": ".py",
   "mimetype": "text/x-python",
   "name": "python",
   "nbconvert_exporter": "python",
   "pygments_lexer": "ipython3",
   "version": "3.9.12"
  },
  "orig_nbformat": 4,
  "vscode": {
   "interpreter": {
    "hash": "ad2bdc8ecc057115af97d19610ffacc2b4e99fae6737bb82f5d7fb13d2f2c186"
   }
  }
 },
 "nbformat": 4,
 "nbformat_minor": 2
}
